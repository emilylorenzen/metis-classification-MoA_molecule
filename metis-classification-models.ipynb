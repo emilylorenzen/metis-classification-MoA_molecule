{
 "cells": [
  {
   "cell_type": "code",
   "execution_count": null,
   "id": "45e3758a-ddef-4d8a-b6a1-461a7c32eaf6",
   "metadata": {},
   "outputs": [],
   "source": [
    "#Using different classification models on the molecular data to predict a GPCR ligand"
   ]
  },
  {
   "cell_type": "code",
   "execution_count": 173,
   "id": "e526b850-4522-425b-a4e4-e2cf17c73755",
   "metadata": {},
   "outputs": [],
   "source": [
    "import pandas as pd\n",
    "import numpy as np\n",
    "\n",
    "# visualization imports\n",
    "import matplotlib.pyplot as plt\n",
    "import seaborn as sns\n",
    "plt.style.use('fivethirtyeight')\n",
    "\n",
    "%matplotlib inline\n",
    "\n",
    "# modeling imports\n",
    "from sklearn.linear_model import LogisticRegression\n",
    "from sklearn.tree import DecisionTreeClassifier\n",
    "from sklearn.ensemble import RandomForestClassifier\n",
    "from sklearn.model_selection import train_test_split\n",
    "from sklearn.metrics import precision_score, recall_score, accuracy_score, roc_auc_score\n",
    "from sklearn.metrics import confusion_matrix\n",
    "from sklearn.preprocessing import StandardScaler\n",
    "\n",
    "pd.options.display.max_columns = None\n",
    "import uniprot as up\n",
    "import pprint\n",
    "import csv\n",
    "from sklearn.neighbors import KNeighborsClassifier\n",
    "from sklearn import metrics\n",
    "import pandas as pd\n",
    "import matplotlib.pyplot as plt\n",
    "import seaborn as sns\n",
    "from sklearn.model_selection import cross_val_score\n",
    "from sklearn_pandas import DataFrameMapper\n",
    "\n"
   ]
  },
  {
   "cell_type": "code",
   "execution_count": null,
   "id": "d0853f94-70aa-4585-a374-d6d033448944",
   "metadata": {},
   "outputs": [],
   "source": [
    "## First try KNN"
   ]
  },
  {
   "cell_type": "code",
   "execution_count": 17,
   "id": "54974e17-58e6-44b8-85a3-a37b05810584",
   "metadata": {},
   "outputs": [],
   "source": [
    "#Read in data, need to drop a few columns\n",
    "df_class = pd.read_csv('df_classification.csv')\n",
    "df_class.drop(labels = ['Unnamed: 0', 'PubChem CID', 'CID'], axis = 1, inplace = True)"
   ]
  },
  {
   "cell_type": "code",
   "execution_count": 58,
   "id": "4d1c8ec2-9cca-471f-817f-672b1e8c602c",
   "metadata": {},
   "outputs": [
    {
     "name": "stderr",
     "output_type": "stream",
     "text": [
      "/Applications/anaconda3/envs/metis/lib/python3.8/site-packages/pandas/core/frame.py:4308: SettingWithCopyWarning: \n",
      "A value is trying to be set on a copy of a slice from a DataFrame\n",
      "\n",
      "See the caveats in the documentation: https://pandas.pydata.org/pandas-docs/stable/user_guide/indexing.html#returning-a-view-versus-a-copy\n",
      "  return super().drop(\n"
     ]
    },
    {
     "data": {
      "text/html": [
       "<div>\n",
       "<style scoped>\n",
       "    .dataframe tbody tr th:only-of-type {\n",
       "        vertical-align: middle;\n",
       "    }\n",
       "\n",
       "    .dataframe tbody tr th {\n",
       "        vertical-align: top;\n",
       "    }\n",
       "\n",
       "    .dataframe thead th {\n",
       "        text-align: right;\n",
       "    }\n",
       "</style>\n",
       "<table border=\"1\" class=\"dataframe\">\n",
       "  <thead>\n",
       "    <tr style=\"text-align: right;\">\n",
       "      <th></th>\n",
       "      <th>MolecularWeight</th>\n",
       "      <th>XLogP</th>\n",
       "      <th>ExactMass</th>\n",
       "      <th>MonoisotopicMass</th>\n",
       "      <th>TPSA</th>\n",
       "      <th>Complexity</th>\n",
       "      <th>Charge</th>\n",
       "      <th>HBondDonorCount</th>\n",
       "      <th>HBondAcceptorCount</th>\n",
       "      <th>RotatableBondCount</th>\n",
       "      <th>HeavyAtomCount</th>\n",
       "      <th>IsotopeAtomCount</th>\n",
       "      <th>AtomStereoCount</th>\n",
       "      <th>DefinedAtomStereoCount</th>\n",
       "      <th>UndefinedAtomStereoCount</th>\n",
       "      <th>BondStereoCount</th>\n",
       "      <th>DefinedBondStereoCount</th>\n",
       "      <th>UndefinedBondStereoCount</th>\n",
       "    </tr>\n",
       "  </thead>\n",
       "  <tbody>\n",
       "    <tr>\n",
       "      <th>0</th>\n",
       "      <td>336.5</td>\n",
       "      <td>5.2</td>\n",
       "      <td>336.230059</td>\n",
       "      <td>336.230059</td>\n",
       "      <td>66.8</td>\n",
       "      <td>408</td>\n",
       "      <td>0</td>\n",
       "      <td>2</td>\n",
       "      <td>4</td>\n",
       "      <td>15</td>\n",
       "      <td>24</td>\n",
       "      <td>0</td>\n",
       "      <td>1</td>\n",
       "      <td>1</td>\n",
       "      <td>0</td>\n",
       "      <td>4</td>\n",
       "      <td>4</td>\n",
       "      <td>0</td>\n",
       "    </tr>\n",
       "    <tr>\n",
       "      <th>5</th>\n",
       "      <td>336.5</td>\n",
       "      <td>4.1</td>\n",
       "      <td>336.230059</td>\n",
       "      <td>336.230059</td>\n",
       "      <td>77.8</td>\n",
       "      <td>421</td>\n",
       "      <td>0</td>\n",
       "      <td>3</td>\n",
       "      <td>4</td>\n",
       "      <td>14</td>\n",
       "      <td>24</td>\n",
       "      <td>0</td>\n",
       "      <td>2</td>\n",
       "      <td>2</td>\n",
       "      <td>0</td>\n",
       "      <td>4</td>\n",
       "      <td>4</td>\n",
       "      <td>0</td>\n",
       "    </tr>\n",
       "    <tr>\n",
       "      <th>13</th>\n",
       "      <td>752.6</td>\n",
       "      <td>5.2</td>\n",
       "      <td>752.164040</td>\n",
       "      <td>752.164040</td>\n",
       "      <td>121.0</td>\n",
       "      <td>1370</td>\n",
       "      <td>0</td>\n",
       "      <td>2</td>\n",
       "      <td>9</td>\n",
       "      <td>9</td>\n",
       "      <td>47</td>\n",
       "      <td>1</td>\n",
       "      <td>8</td>\n",
       "      <td>8</td>\n",
       "      <td>0</td>\n",
       "      <td>0</td>\n",
       "      <td>0</td>\n",
       "      <td>0</td>\n",
       "    </tr>\n",
       "    <tr>\n",
       "      <th>14</th>\n",
       "      <td>492.6</td>\n",
       "      <td>4.3</td>\n",
       "      <td>492.174373</td>\n",
       "      <td>492.174373</td>\n",
       "      <td>112.0</td>\n",
       "      <td>705</td>\n",
       "      <td>0</td>\n",
       "      <td>1</td>\n",
       "      <td>9</td>\n",
       "      <td>6</td>\n",
       "      <td>35</td>\n",
       "      <td>0</td>\n",
       "      <td>1</td>\n",
       "      <td>1</td>\n",
       "      <td>0</td>\n",
       "      <td>0</td>\n",
       "      <td>0</td>\n",
       "      <td>0</td>\n",
       "    </tr>\n",
       "    <tr>\n",
       "      <th>15</th>\n",
       "      <td>423.6</td>\n",
       "      <td>3.7</td>\n",
       "      <td>423.145048</td>\n",
       "      <td>423.145048</td>\n",
       "      <td>111.0</td>\n",
       "      <td>608</td>\n",
       "      <td>0</td>\n",
       "      <td>3</td>\n",
       "      <td>5</td>\n",
       "      <td>7</td>\n",
       "      <td>28</td>\n",
       "      <td>0</td>\n",
       "      <td>0</td>\n",
       "      <td>0</td>\n",
       "      <td>0</td>\n",
       "      <td>0</td>\n",
       "      <td>0</td>\n",
       "      <td>0</td>\n",
       "    </tr>\n",
       "    <tr>\n",
       "      <th>...</th>\n",
       "      <td>...</td>\n",
       "      <td>...</td>\n",
       "      <td>...</td>\n",
       "      <td>...</td>\n",
       "      <td>...</td>\n",
       "      <td>...</td>\n",
       "      <td>...</td>\n",
       "      <td>...</td>\n",
       "      <td>...</td>\n",
       "      <td>...</td>\n",
       "      <td>...</td>\n",
       "      <td>...</td>\n",
       "      <td>...</td>\n",
       "      <td>...</td>\n",
       "      <td>...</td>\n",
       "      <td>...</td>\n",
       "      <td>...</td>\n",
       "      <td>...</td>\n",
       "    </tr>\n",
       "    <tr>\n",
       "      <th>15959</th>\n",
       "      <td>408.4</td>\n",
       "      <td>1.9</td>\n",
       "      <td>408.171002</td>\n",
       "      <td>408.171002</td>\n",
       "      <td>109.0</td>\n",
       "      <td>556</td>\n",
       "      <td>0</td>\n",
       "      <td>3</td>\n",
       "      <td>7</td>\n",
       "      <td>9</td>\n",
       "      <td>30</td>\n",
       "      <td>0</td>\n",
       "      <td>0</td>\n",
       "      <td>0</td>\n",
       "      <td>0</td>\n",
       "      <td>0</td>\n",
       "      <td>0</td>\n",
       "      <td>0</td>\n",
       "    </tr>\n",
       "    <tr>\n",
       "      <th>15960</th>\n",
       "      <td>356.4</td>\n",
       "      <td>3.1</td>\n",
       "      <td>356.063092</td>\n",
       "      <td>356.063092</td>\n",
       "      <td>67.9</td>\n",
       "      <td>567</td>\n",
       "      <td>0</td>\n",
       "      <td>0</td>\n",
       "      <td>6</td>\n",
       "      <td>3</td>\n",
       "      <td>25</td>\n",
       "      <td>0</td>\n",
       "      <td>0</td>\n",
       "      <td>0</td>\n",
       "      <td>0</td>\n",
       "      <td>0</td>\n",
       "      <td>0</td>\n",
       "      <td>0</td>\n",
       "    </tr>\n",
       "    <tr>\n",
       "      <th>15961</th>\n",
       "      <td>445.3</td>\n",
       "      <td>3.7</td>\n",
       "      <td>444.047747</td>\n",
       "      <td>444.047747</td>\n",
       "      <td>74.9</td>\n",
       "      <td>620</td>\n",
       "      <td>0</td>\n",
       "      <td>1</td>\n",
       "      <td>5</td>\n",
       "      <td>5</td>\n",
       "      <td>28</td>\n",
       "      <td>0</td>\n",
       "      <td>0</td>\n",
       "      <td>0</td>\n",
       "      <td>0</td>\n",
       "      <td>0</td>\n",
       "      <td>0</td>\n",
       "      <td>0</td>\n",
       "    </tr>\n",
       "    <tr>\n",
       "      <th>15962</th>\n",
       "      <td>383.3</td>\n",
       "      <td>2.0</td>\n",
       "      <td>383.043914</td>\n",
       "      <td>383.043914</td>\n",
       "      <td>95.8</td>\n",
       "      <td>675</td>\n",
       "      <td>0</td>\n",
       "      <td>1</td>\n",
       "      <td>8</td>\n",
       "      <td>3</td>\n",
       "      <td>26</td>\n",
       "      <td>0</td>\n",
       "      <td>3</td>\n",
       "      <td>3</td>\n",
       "      <td>0</td>\n",
       "      <td>0</td>\n",
       "      <td>0</td>\n",
       "      <td>0</td>\n",
       "    </tr>\n",
       "    <tr>\n",
       "      <th>15963</th>\n",
       "      <td>339.4</td>\n",
       "      <td>3.4</td>\n",
       "      <td>339.163457</td>\n",
       "      <td>339.163457</td>\n",
       "      <td>21.7</td>\n",
       "      <td>480</td>\n",
       "      <td>0</td>\n",
       "      <td>0</td>\n",
       "      <td>4</td>\n",
       "      <td>4</td>\n",
       "      <td>25</td>\n",
       "      <td>0</td>\n",
       "      <td>0</td>\n",
       "      <td>0</td>\n",
       "      <td>0</td>\n",
       "      <td>0</td>\n",
       "      <td>0</td>\n",
       "      <td>0</td>\n",
       "    </tr>\n",
       "  </tbody>\n",
       "</table>\n",
       "<p>9658 rows × 18 columns</p>\n",
       "</div>"
      ],
      "text/plain": [
       "       MolecularWeight  XLogP   ExactMass  MonoisotopicMass   TPSA  \\\n",
       "0                336.5    5.2  336.230059        336.230059   66.8   \n",
       "5                336.5    4.1  336.230059        336.230059   77.8   \n",
       "13               752.6    5.2  752.164040        752.164040  121.0   \n",
       "14               492.6    4.3  492.174373        492.174373  112.0   \n",
       "15               423.6    3.7  423.145048        423.145048  111.0   \n",
       "...                ...    ...         ...               ...    ...   \n",
       "15959            408.4    1.9  408.171002        408.171002  109.0   \n",
       "15960            356.4    3.1  356.063092        356.063092   67.9   \n",
       "15961            445.3    3.7  444.047747        444.047747   74.9   \n",
       "15962            383.3    2.0  383.043914        383.043914   95.8   \n",
       "15963            339.4    3.4  339.163457        339.163457   21.7   \n",
       "\n",
       "       Complexity  Charge  HBondDonorCount  HBondAcceptorCount  \\\n",
       "0             408       0                2                   4   \n",
       "5             421       0                3                   4   \n",
       "13           1370       0                2                   9   \n",
       "14            705       0                1                   9   \n",
       "15            608       0                3                   5   \n",
       "...           ...     ...              ...                 ...   \n",
       "15959         556       0                3                   7   \n",
       "15960         567       0                0                   6   \n",
       "15961         620       0                1                   5   \n",
       "15962         675       0                1                   8   \n",
       "15963         480       0                0                   4   \n",
       "\n",
       "       RotatableBondCount  HeavyAtomCount  IsotopeAtomCount  AtomStereoCount  \\\n",
       "0                      15              24                 0                1   \n",
       "5                      14              24                 0                2   \n",
       "13                      9              47                 1                8   \n",
       "14                      6              35                 0                1   \n",
       "15                      7              28                 0                0   \n",
       "...                   ...             ...               ...              ...   \n",
       "15959                   9              30                 0                0   \n",
       "15960                   3              25                 0                0   \n",
       "15961                   5              28                 0                0   \n",
       "15962                   3              26                 0                3   \n",
       "15963                   4              25                 0                0   \n",
       "\n",
       "       DefinedAtomStereoCount  UndefinedAtomStereoCount  BondStereoCount  \\\n",
       "0                           1                         0                4   \n",
       "5                           2                         0                4   \n",
       "13                          8                         0                0   \n",
       "14                          1                         0                0   \n",
       "15                          0                         0                0   \n",
       "...                       ...                       ...              ...   \n",
       "15959                       0                         0                0   \n",
       "15960                       0                         0                0   \n",
       "15961                       0                         0                0   \n",
       "15962                       3                         0                0   \n",
       "15963                       0                         0                0   \n",
       "\n",
       "       DefinedBondStereoCount  UndefinedBondStereoCount  \n",
       "0                           4                         0  \n",
       "5                           4                         0  \n",
       "13                          0                         0  \n",
       "14                          0                         0  \n",
       "15                          0                         0  \n",
       "...                       ...                       ...  \n",
       "15959                       0                         0  \n",
       "15960                       0                         0  \n",
       "15961                       0                         0  \n",
       "15962                       0                         0  \n",
       "15963                       0                         0  \n",
       "\n",
       "[9658 rows x 18 columns]"
      ]
     },
     "execution_count": 58,
     "metadata": {},
     "output_type": "execute_result"
    }
   ],
   "source": [
    "#Drop columns with NA and set features and target\n",
    "df_class.dropna(inplace = True)\n",
    "X = df_class.select_dtypes(include = 'number', exclude = 'object')\n",
    "X.drop(['GPCR'], axis = 1, inplace = True)\n",
    "y = df_class['GPCR']\n",
    "X"
   ]
  },
  {
   "cell_type": "code",
   "execution_count": 159,
   "id": "a902a9de-0c32-40f1-bdc0-3cca4bdbf706",
   "metadata": {},
   "outputs": [],
   "source": [
    "# Create train and test split\n",
    "\n",
    "X_train, X_test, y_train, y_test = train_test_split(X, y, test_size=0.2, random_state=42)\n",
    "\n",
    "mapper = DataFrameMapper([(X_train.columns, StandardScaler())])\n",
    "scaled_X_train = mapper.fit_transform(X_train.copy())\n",
    "scaled_X_train_df = pd.DataFrame(scaled_X_train, columns=X_train.columns)\n",
    "scaled_X_test = mapper.fit_transform(X_test.copy())\n",
    "scaled_X_test_df = pd.DataFrame(scaled_X_test, columns=X_test.columns)"
   ]
  },
  {
   "cell_type": "code",
   "execution_count": 199,
   "id": "85575315-326a-43aa-a67f-a2d973fa9cd2",
   "metadata": {},
   "outputs": [
    {
     "name": "stdout",
     "output_type": "stream",
     "text": [
      "0.8954180688584003\n",
      "0.7637033625057578\n",
      "0.8489503328213006\n",
      "0.8954180688584003\n",
      "0.8040737148399613\n"
     ]
    }
   ],
   "source": [
    "#Perform KNN and evaluate model on the training data\n",
    "knn = KNeighborsClassifier(n_neighbors=5) \n",
    "knn.fit(scaled_X_train_df, y_train)\n",
    "y_train_pred = knn.predict(scaled_X_train_df)\n",
    "print(accuracy_score(y_train, y_train_pred))\n",
    "print(recall_score(y_train, y_train_pred))\n",
    "print(precision_score(y_train, y_train_pred))\n",
    "print(metrics.accuracy_score(y_train, y_train_pred))\n",
    "print(metrics.f1_score(y_train, y_train_pred))"
   ]
  },
  {
   "cell_type": "code",
   "execution_count": 198,
   "id": "6e543e03-968e-4f39-8afc-eb38e7667e29",
   "metadata": {},
   "outputs": [
    {
     "name": "stdout",
     "output_type": "stream",
     "text": [
      "0.9958592132505176\n",
      "0.9875886524822695\n",
      "0.9982078853046595\n",
      "0.9958592132505176\n",
      "0.9928698752228164\n"
     ]
    }
   ],
   "source": [
    "#Evaluate model on the test data\n",
    "knn.fit(scaled_X_test_df, y_test)\n",
    "y_test_pred = knn.predict(scaled_X_test)\n",
    "print(accuracy_score(y_test, y_test_pred))\n",
    "print(recall_score(y_test, y_test_pred))\n",
    "print(precision_score(y_test, y_test_pred))\n",
    "print(metrics.accuracy_score(y_test, y_test_pred))\n",
    "print(metrics.f1_score(y_test, y_test_pred))"
   ]
  },
  {
   "cell_type": "markdown",
   "id": "e34bc34b-4070-4fb2-929d-f02edc90fbed",
   "metadata": {},
   "source": [
    "This is a surprisingly good accuracy, but I am more interested in recall. So let's check out the recall and precision. "
   ]
  },
  {
   "cell_type": "markdown",
   "id": "46c43ae9-7d68-464f-b489-e8aba3d7bf84",
   "metadata": {},
   "source": [
    "So it seems to be struggling with precision and recall, indicating the KNN model may be good at identifying not GPCR molecules but not good at identifying GPCR molecules "
   ]
  },
  {
   "cell_type": "code",
   "execution_count": 197,
   "id": "913ebc6e-8ae9-4bb2-9d93-46351f13b439",
   "metadata": {},
   "outputs": [
    {
     "name": "stdout",
     "output_type": "stream",
     "text": [
      "[0.58608059 0.55677656 0.82783883 0.72262774 0.59854015 0.70437956\n",
      " 0.66058394 0.70072993 0.62637363 0.58608059]\n",
      "[0.54607509 0.55677656 0.62430939 0.66666667 0.74885845 0.79752066\n",
      " 0.81531532 0.74708171 0.74672489 0.59925094]\n",
      "[0.74534161 0.7494824  0.81055901 0.81884058 0.82919255 0.86542443\n",
      " 0.86128364 0.84782609 0.83419689 0.77202073]\n"
     ]
    }
   ],
   "source": [
    "#Try cross validation with the three types for scoring metrics\n",
    "mapper = DataFrameMapper([(X.columns, StandardScaler())])\n",
    "scaled_X = mapper.fit_transform(X.copy())\n",
    "scaled_X_df = pd.DataFrame(scaled_X, columns=X.columns)\n",
    "\n",
    "metrics_ = ['recall', 'precision', 'accuracy']\n",
    "\n",
    "for metric in metrics_:\n",
    "    knn = KNeighborsClassifier(n_neighbors=5, weights = 'distance')\n",
    "    scores = cross_val_score(knn, scaled_X_df, y, cv=10, scoring=metric)\n",
    "\n",
    "    print(scores)"
   ]
  },
  {
   "cell_type": "code",
   "execution_count": 162,
   "id": "5ad67678-f088-4773-854b-ef5dc84b3efc",
   "metadata": {},
   "outputs": [],
   "source": [
    "#Find optimal K for each metric and each weight type and plot"
   ]
  },
  {
   "cell_type": "code",
   "execution_count": 163,
   "id": "d3717758-5711-4bbc-9f57-5d2366f706ff",
   "metadata": {},
   "outputs": [],
   "source": [
    "def opt_k(X,y,metric, weight):\n",
    "    mapper = DataFrameMapper([(X.columns, StandardScaler())])\n",
    "    scaled_X = mapper.fit_transform(X.copy())\n",
    "    scaled_X_df = pd.DataFrame(scaled_X, columns=X.columns)\n",
    "    \n",
    "    k_range = list(range(1, 31))\n",
    "    k_scores = []\n",
    "\n",
    "    for k in k_range:\n",
    "        knn = KNeighborsClassifier(n_neighbors=k, weights = weight)\n",
    "        scores = cross_val_score(knn, scaled_X_df, y, cv=10, scoring= metric)\n",
    "        k_scores.append(scores.mean())\n",
    "        \n",
    "    plt.plot(k_range, k_scores)\n",
    "    plt.xlabel('Value of K for KNN')\n",
    "    plt.ylabel('Cross-Validated ' + metric + ' with ' + weight + ' weights')"
   ]
  },
  {
   "cell_type": "code",
   "execution_count": 148,
   "id": "0761adb2-35c9-4d3e-bf2c-846ff8825db2",
   "metadata": {},
   "outputs": [
    {
     "data": {
      "image/png": "[encoded data removed]",
      "text/plain": [
       "<Figure size 432x288 with 1 Axes>"
      ]
     },
     "metadata": {
      "needs_background": "light"
     },
     "output_type": "display_data"
    }
   ],
   "source": [
    "opt_k(X,y,'recall', 'uniform')"
   ]
  },
  {
   "cell_type": "code",
   "execution_count": 149,
   "id": "9f0c8537-f03c-44c6-98f5-662583929d1c",
   "metadata": {},
   "outputs": [
    {
     "data": {
      "image/png": "[encoded data removed]",
      "text/plain": [
       "<Figure size 432x288 with 1 Axes>"
      ]
     },
     "metadata": {
      "needs_background": "light"
     },
     "output_type": "display_data"
    }
   ],
   "source": [
    "opt_k(X,y,'recall', 'distance')"
   ]
  },
  {
   "cell_type": "code",
   "execution_count": 150,
   "id": "1fa0915b-9541-4d69-b8e0-00b73ed93619",
   "metadata": {},
   "outputs": [
    {
     "data": {
      "image/png": "[encoded data removed]",
      "text/plain": [
       "<Figure size 432x288 with 1 Axes>"
      ]
     },
     "metadata": {
      "needs_background": "light"
     },
     "output_type": "display_data"
    }
   ],
   "source": [
    "opt_k(X,y, 'precision', 'uniform')"
   ]
  },
  {
   "cell_type": "code",
   "execution_count": 151,
   "id": "7786c3a6-9eec-40a3-bacb-0aaaf50ac284",
   "metadata": {},
   "outputs": [
    {
     "data": {
      "image/png": "[encoded data removed]",
      "text/plain": [
       "<Figure size 432x288 with 1 Axes>"
      ]
     },
     "metadata": {
      "needs_background": "light"
     },
     "output_type": "display_data"
    }
   ],
   "source": [
    "opt_k(X,y, 'precision', 'distance')"
   ]
  },
  {
   "cell_type": "code",
   "execution_count": 153,
   "id": "e76dcc8b-5fbf-4f39-af38-a617efa46a7e",
   "metadata": {},
   "outputs": [
    {
     "data": {
      "image/png": "[encoded data removed]",
      "text/plain": [
       "<Figure size 432x288 with 1 Axes>"
      ]
     },
     "metadata": {
      "needs_background": "light"
     },
     "output_type": "display_data"
    }
   ],
   "source": [
    "opt_k(X,y, 'accuracy', 'uniform')"
   ]
  },
  {
   "cell_type": "code",
   "execution_count": 152,
   "id": "987d2f93-4390-4190-bc44-45e03f0a9d8f",
   "metadata": {},
   "outputs": [
    {
     "data": {
      "image/png": "[encoded data removed]",
      "text/plain": [
       "<Figure size 432x288 with 1 Axes>"
      ]
     },
     "metadata": {
      "needs_background": "light"
     },
     "output_type": "display_data"
    }
   ],
   "source": [
    "opt_k(X,y, 'accuracy', 'distance')"
   ]
  },
  {
   "cell_type": "markdown",
   "id": "84b553f7-4d75-4acb-ab7e-7f3e2f519a5c",
   "metadata": {},
   "source": [
    "**Why is one graph going down with K and the other going up with K for accuracy and precision?**"
   ]
  },
  {
   "cell_type": "markdown",
   "id": "acc252a9-6e94-4d36-a48c-dc8346a135ff",
   "metadata": {},
   "source": [
    "# Now I am going to do a quick test for the logreg, decision tree and random forest methods"
   ]
  },
  {
   "cell_type": "code",
   "execution_count": 164,
   "id": "9ae1325f-40f2-4b6c-a2c2-299ed62cafac",
   "metadata": {},
   "outputs": [],
   "source": [
    "def quick_test(model, X, y):\n",
    "    xtrain, xtest, ytrain, ytest = train_test_split(X, y, test_size=0.3)\n",
    "    model.fit(xtrain, ytrain)\n",
    "    return model.score(xtest, ytest)\n",
    "\n",
    "def quick_test_afew_times(model, X, y, n=10):\n",
    "    return np.mean([quick_test(model, X, y) for j in range(n)])"
   ]
  },
  {
   "cell_type": "code",
   "execution_count": 183,
   "id": "d7b4af0d-80e8-4d50-a1ac-0bcb0c189397",
   "metadata": {},
   "outputs": [
    {
     "name": "stdout",
     "output_type": "stream",
     "text": [
      "0.7270531400966184\n"
     ]
    },
    {
     "name": "stderr",
     "output_type": "stream",
     "text": [
      "/Applications/anaconda3/envs/metis/lib/python3.8/site-packages/sklearn/linear_model/_logistic.py:763: ConvergenceWarning: lbfgs failed to converge (status=1):\n",
      "STOP: TOTAL NO. of ITERATIONS REACHED LIMIT.\n",
      "\n",
      "Increase the number of iterations (max_iter) or scale the data as shown in:\n",
      "    https://scikit-learn.org/stable/modules/preprocessing.html\n",
      "Please also refer to the documentation for alternative solver options:\n",
      "    https://scikit-learn.org/stable/modules/linear_model.html#logistic-regression\n",
      "  n_iter_i = _check_optimize_result(\n"
     ]
    },
    {
     "name": "stdout",
     "output_type": "stream",
     "text": [
      "0.7349551414768806\n"
     ]
    }
   ],
   "source": [
    "logreg = LogisticRegression(max_iter = 1000, C = 1000)\n",
    "print(quick_test(logreg, X, y))\n",
    "print(quick_test_afew_times(logreg, X, y))"
   ]
  },
  {
   "cell_type": "code",
   "execution_count": 185,
   "id": "4884e403-6c72-4e9e-b18d-8476d8a6e502",
   "metadata": {},
   "outputs": [
    {
     "name": "stdout",
     "output_type": "stream",
     "text": [
      "0.898895790200138\n",
      "0.8138026224982747\n"
     ]
    }
   ],
   "source": [
    "decisiontree = DecisionTreeClassifier(max_depth=10)\n",
    "print(quick_test(randomforest, X, y))\n",
    "print(quick_test_afew_times(decisiontree, X, y))"
   ]
  },
  {
   "cell_type": "markdown",
   "id": "2be9a067-27c6-4ee4-bd06-6a0b61ff2a64",
   "metadata": {},
   "source": [
    "**Why don't we test/train split on the decision tree and randomforest?**\n",
    "Always test/train split"
   ]
  },
  {
   "cell_type": "markdown",
   "id": "b5c98f94-10b3-4ae2-9d6c-50e188ce1667",
   "metadata": {},
   "source": [
    "**Is feature engineering important in decision tree and random forest?**\n",
    "Always important \n",
    "But in non-linear classification models: don't worry about scaling or linearizing the data"
   ]
  },
  {
   "cell_type": "markdown",
   "id": "1c6d7fa8-8b4a-4872-877b-65aab8ba3319",
   "metadata": {},
   "source": [
    "**Do decision trees require scaling?**\n",
    "For standard scaling - no\n",
    "Hyperparameter to limit size trees - yes"
   ]
  },
  {
   "cell_type": "code",
   "execution_count": 179,
   "id": "b9a75369-8655-4be6-8913-5f07402db741",
   "metadata": {},
   "outputs": [
    {
     "name": "stdout",
     "output_type": "stream",
     "text": [
      "0.8947550034506556\n",
      "0.899344375431332\n"
     ]
    }
   ],
   "source": [
    "randomforest = RandomForestClassifier(n_estimators=100)\n",
    "print(quick_test(randomforest, X, y))\n",
    "print(quick_test_afew_times(randomforest, X, y))"
   ]
  },
  {
   "cell_type": "markdown",
   "id": "71fdf018-4226-4a50-be19-b6cb7999a043",
   "metadata": {},
   "source": [
    "Accuracy: randomforest > decisiontree > logistic regression\n",
    "I'd like to look at some other metrics though, in particular recall"
   ]
  },
  {
   "cell_type": "code",
   "execution_count": 195,
   "id": "128f0d0c-9a04-4f1f-8762-6bec5bb4f662",
   "metadata": {},
   "outputs": [],
   "source": [
    "def accuracy(actuals, preds):\n",
    "    return np.mean(actuals == preds)\n",
    "\n",
    "def precision(actuals, preds):\n",
    "    tp = np.sum((actuals == 1) & (preds == 1))\n",
    "    fp = np.sum((actuals == 0) & (preds == 1))\n",
    "    return tp / (tp + fp)\n",
    "\n",
    "def recall(actuals, preds):\n",
    "    tp = np.sum((actuals == 1) & (preds == 1))\n",
    "    fn = np.sum((actuals == 1) & (preds == 0))\n",
    "    return tp / (tp + fn)\n",
    "\n",
    "def F1(actuals, preds):\n",
    "    p, r = precision(actuals, preds), recall(actuals, preds)\n",
    "    return 2*p*r / (p + r)"
   ]
  },
  {
   "cell_type": "code",
   "execution_count": 196,
   "id": "17bd7cf5-d64c-4859-b017-78923d2cb707",
   "metadata": {},
   "outputs": [
    {
     "name": "stdout",
     "output_type": "stream",
     "text": [
      "Logistic regression validation metrics: \n",
      " Accuracy: 0.7246 \n",
      " Precision: 0.5988 \n",
      " Recall: 0.1720 \n",
      " F1: 0.2672\n",
      "\n",
      "\n",
      "5 nearest neighbors validation metrics: \n",
      " Accuracy: 0.7971 \n",
      " Precision: 0.6861 \n",
      " Recall: 0.5621 \n",
      " F1: 0.6179\n",
      "\n",
      "\n",
      "Decisiontree max depth 10 validation metrics: \n",
      " Accuracy: 0.8131 \n",
      " Precision: 0.6986 \n",
      " Recall: 0.6330 \n",
      " F1: 0.6642\n",
      "\n",
      "\n",
      "Random Forest max depth 10 validation metrics: \n",
      " Accuracy: 0.9006 \n",
      " Precision: 0.8750 \n",
      " Recall: 0.7695 \n",
      " F1: 0.8189\n"
     ]
    }
   ],
   "source": [
    "logreg.fit(X_train, y_train)\n",
    "knn.fit(X_train, y_train)\n",
    "decisiontree.fit(X_train, y_train)\n",
    "randomforest.fit(X_train, y_train)\n",
    "\n",
    "print('Logistic regression validation metrics: \\n Accuracy: %.4f \\n Precision: %.4f \\n Recall: %.4f \\n F1: %.4f' %\n",
    "        (accuracy(y_test, logreg.predict(X_test)), \n",
    "         precision(y_test, logreg.predict(X_test)), \n",
    "         recall(y_test, logreg.predict(X_test)),\n",
    "         F1(y_test, logreg.predict(X_test))))\n",
    "\n",
    "print('\\n')\n",
    "\n",
    "print('5 nearest neighbors validation metrics: \\n Accuracy: %.4f \\n Precision: %.4f \\n Recall: %.4f \\n F1: %.4f' %\n",
    "        (accuracy(y_test, knn.predict(X_test)), \n",
    "         precision(y_test, knn.predict(X_test)), \n",
    "         recall(y_test, knn.predict(X_test)),\n",
    "         F1(y_test, knn.predict(X_test))))\n",
    "\n",
    "print('\\n')\n",
    "\n",
    "print('Decisiontree max depth 10 validation metrics: \\n Accuracy: %.4f \\n Precision: %.4f \\n Recall: %.4f \\n F1: %.4f' %\n",
    "        (accuracy(y_test, decisiontree.predict(X_test)), \n",
    "         precision(y_test, decisiontree.predict(X_test)), \n",
    "         recall(y_test, decisiontree.predict(X_test)),\n",
    "         F1(y_test, decisiontree.predict(X_test))))\n",
    "\n",
    "print('\\n')\n",
    "\n",
    "print('Random Forest max depth 10 validation metrics: \\n Accuracy: %.4f \\n Precision: %.4f \\n Recall: %.4f \\n F1: %.4f' %\n",
    "        (accuracy(y_test, randomforest.predict(X_test)), \n",
    "         precision(y_test, randomforest.predict(X_test)), \n",
    "         recall(y_test, randomforest.predict(X_test)),\n",
    "         F1(y_test, randomforest.predict(X_test))))"
   ]
  },
  {
   "cell_type": "markdown",
   "id": "4c6f93b2-2d64-47d7-9e2f-57680c52ef7c",
   "metadata": {},
   "source": [
    "**How would I increase recall in my best method?**\n",
    "1) Model selection - random forest seems to work best\n",
    "2) Feature engineering - I put my logic below\n",
    "3) Handle class imbalance -\n",
    "4) Hyperparameter tuning\n",
    "5) Threshold selection"
   ]
  },
  {
   "cell_type": "markdown",
   "id": "c712c947-40bd-4f52-ac1f-aa9fc7f154d8",
   "metadata": {},
   "source": [
    "## Feature Engineering\n",
    "### Very general characteristics of GPCR ligands \n",
    "- Binds in a more hydrophobic environment (so tends to have lower octanol/water partition coefficient)\n",
    "- Molecular mass of ligands have a huge range \n",
    "- H-bonds donors and acceptors are very important in binding\n",
    "- Heavy atom count will skew higher due to peptide ligands\n",
    "\n"
   ]
  },
  {
   "cell_type": "code",
   "execution_count": 232,
   "id": "2935a8b1-111f-4ed9-b652-4a53ae7ab01d",
   "metadata": {},
   "outputs": [],
   "source": [
    "# Normalize for molecular mass\n",
    "df_class['XLogP_Mass'] = df_class['XLogP']/df_class['ExactMass']\n",
    "df_class['HBondAcceptorCount_Mass'] = df_class['HBondAcceptorCount']/df_class['ExactMass']\n",
    "df_class['HBondDonorCount_Mass'] = df_class['HBondDonorCount']/df_class['ExactMass']\n",
    "df_class['HeavyAtomCount_Mass'] = df_class['HeavyAtomCount']/df_class['ExactMass']"
   ]
  },
  {
   "cell_type": "code",
   "execution_count": 236,
   "id": "91e6caa8-122a-4b5c-adeb-906992370cff",
   "metadata": {},
   "outputs": [
    {
     "data": {
      "text/plain": [
       "RandomForestClassifier()"
      ]
     },
     "execution_count": 236,
     "metadata": {},
     "output_type": "execute_result"
    }
   ],
   "source": [
    "randomforest = RandomForestClassifier(n_estimators=100)\n",
    "randomforest.fit(X_train, y_train)\n",
    "y_train_preds = predict"
   ]
  },
  {
   "cell_type": "code",
   "execution_count": 235,
   "id": "088e0b35-d98a-413d-abf2-f27a2da2b94e",
   "metadata": {},
   "outputs": [
    {
     "name": "stderr",
     "output_type": "stream",
     "text": [
      "/Applications/anaconda3/envs/metis/lib/python3.8/site-packages/pandas/core/frame.py:4308: SettingWithCopyWarning: \n",
      "A value is trying to be set on a copy of a slice from a DataFrame\n",
      "\n",
      "See the caveats in the documentation: https://pandas.pydata.org/pandas-docs/stable/user_guide/indexing.html#returning-a-view-versus-a-copy\n",
      "  return super().drop(\n"
     ]
    }
   ],
   "source": [
    "X = df_class.select_dtypes(include = 'number', exclude = 'object')\n",
    "X.drop(['GPCR'], axis = 1, inplace = True)\n",
    "y = df_class['GPCR']\n",
    "X_train, X_test, y_train, y_test = train_test_split(X, y, test_size=0.2, random_state=42)\n",
    "randomforest.fit(X_train, y_train)"
   ]
  },
  {
   "cell_type": "code",
   "execution_count": 206,
   "id": "ca330d40-1cfe-4b42-93d6-293617d24dfc",
   "metadata": {},
   "outputs": [],
   "source": [
    "# !conda install -c conda-forge imbalanced-learn\n",
    "\n",
    "import imblearn.over_sampling"
   ]
  },
  {
   "cell_type": "code",
   "execution_count": 207,
   "id": "85e9b0a6-05fb-4714-bd91-3fe9fef7117e",
   "metadata": {},
   "outputs": [],
   "source": [
    "n_pos = np.sum(y_train == 1)\n",
    "n_neg = np.sum(y_train == 0)\n",
    "ratio = {1 : n_pos * 4, 0 : n_neg} "
   ]
  },
  {
   "cell_type": "code",
   "execution_count": 223,
   "id": "bd2941ce-2841-4f24-94d5-42384206b3dc",
   "metadata": {},
   "outputs": [
    {
     "name": "stderr",
     "output_type": "stream",
     "text": [
      "/Applications/anaconda3/envs/metis/lib/python3.8/site-packages/imblearn/utils/_validation.py:318: UserWarning: After over-sampling, the number of samples (8684) in class 1 will be larger than the number of samples in the majority class (class #0 -> 5555)\n",
      "  warnings.warn(\n"
     ]
    },
    {
     "name": "stdout",
     "output_type": "stream",
     "text": [
      "Random Forest with over sampling : \n",
      " Accuracy: 0.8965 \n",
      " Precision: 0.8297 \n",
      " Recall: 0.8121 \n",
      " F1: 0.8208\n"
     ]
    },
    {
     "name": "stderr",
     "output_type": "stream",
     "text": [
      "/Applications/anaconda3/envs/metis/lib/python3.8/site-packages/imblearn/utils/_validation.py:318: UserWarning: After over-sampling, the number of samples (8684) in class 1 will be larger than the number of samples in the majority class (class #0 -> 5555)\n",
      "  warnings.warn(\n"
     ]
    },
    {
     "name": "stdout",
     "output_type": "stream",
     "text": [
      "Random Forest with over sampling : \n",
      " Accuracy: 0.8898 \n",
      " Precision: 0.7817 \n",
      " Recall: 0.8635 \n",
      " F1: 0.8206\n"
     ]
    }
   ],
   "source": [
    "ROS = imblearn.over_sampling.RandomOverSampler(sampling_strategy = ratio, random_state=42) \n",
    "\n",
    "X_train_OS, y_train_OS = ROS.fit_resample(X_train, y_train)\n",
    "rf_OS = RandomForestClassifier(n_estimators=100)\n",
    "rf_OS.fit(X_train_rs, y_train_rs)\n",
    "\n",
    "print('Random Forest with over sampling : \\n Accuracy: %.4f \\n Precision: %.4f \\n Recall: %.4f \\n F1: %.4f' %\n",
    "        (accuracy(y_test, rf_OS.predict(X_test)), \n",
    "         precision(y_test, rf_OS.predict(X_test)), \n",
    "         recall(y_test, rf_OS.predict(X_test)),\n",
    "         F1(y_test, rf_OS.predict(X_test))))\n",
    "\n",
    "\n",
    "smote = imblearn.over_sampling.SMOTE(sampling_strategy = ratio, random_state=42) \n",
    "\n",
    "X_train_SMOTE, y_train_SMOTE = smote.fit_resample(X_train, y_train)\n",
    "rf_SMOTE = RandomForestClassifier(n_estimators=100)\n",
    "rf_SMOTE.fit(X_train_SMOTE, y_train_SMOTE)\n",
    "\n",
    "print('Random Forest with over sampling : \\n Accuracy: %.4f \\n Precision: %.4f \\n Recall: %.4f \\n F1: %.4f' %\n",
    "        (accuracy(y_test, rf_SMOTE.predict(X_test)), \n",
    "         precision(y_test, rf_SMOTE.predict(X_test)), \n",
    "         recall(y_test, rf_SMOTE.predict(X_test)),\n",
    "         F1(y_test, rf_SMOTE.predict(X_test))))\n"
   ]
  },
  {
   "cell_type": "code",
   "execution_count": null,
   "id": "41a87051-fe6c-4e56-8c00-892a8f068202",
   "metadata": {},
   "outputs": [],
   "source": []
  }
 ],
 "metadata": {
  "kernelspec": {
   "display_name": "Python [conda env:metis] *",
   "language": "python",
   "name": "conda-env-metis-py"
  },
  "language_info": {
   "codemirror_mode": {
    "name": "ipython",
    "version": 3
   },
   "file_extension": ".py",
   "mimetype": "text/x-python",
   "name": "python",
   "nbconvert_exporter": "python",
   "pygments_lexer": "ipython3",
   "version": "3.8.8"
  }
 },
 "nbformat": 4,
 "nbformat_minor": 5
}
